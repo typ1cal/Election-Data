{
 "cells": [
  {
   "cell_type": "code",
   "execution_count": 7,
   "metadata": {},
   "outputs": [
    {
     "name": "stdout",
     "output_type": "stream",
     "text": [
      "Data has been saved to election_results_2024.csv\n"
     ]
    }
   ],
   "source": [
    "import requests\n",
    "from bs4 import BeautifulSoup\n",
    "import csv\n",
    "\n",
    "# URL of the results page\n",
    "url = \"https://results.eci.gov.in/PcResultGenJune2024/partywisewinresultState-369.htm\"\n",
    "\n",
    "# Send a GET request to the URL\n",
    "response = requests.get(url)\n",
    "soup = BeautifulSoup(response.content, 'html.parser')\n",
    "\n",
    "# Extract the relevant table(s)\n",
    "tables = soup.find_all('table')\n",
    "\n",
    "# Open a CSV file to write the data\n",
    "with open('election_results_2024_2.csv', mode='w', newline='', encoding='utf-8') as file:\n",
    "    writer = csv.writer(file)\n",
    "    \n",
    "    # Iterate through tables and rows\n",
    "    for table in tables:\n",
    "        rows = table.find_all('tr')\n",
    "        for row in rows:\n",
    "            columns = row.find_all('td')\n",
    "            data = [column.text.strip() for column in columns]\n",
    "            writer.writerow(data)\n",
    "\n",
    "print(\"Data has been saved to election_results_2024.csv\")"
   ]
  },
  {
   "cell_type": "code",
   "execution_count": 5,
   "metadata": {},
   "outputs": [
    {
     "name": "stdout",
     "output_type": "stream",
     "text": [
      "Constituency-wise data has been saved to constituency_wise_results_2024.csv\n"
     ]
    }
   ],
   "source": [
    "import requests\n",
    "from bs4 import BeautifulSoup\n",
    "import csv\n",
    "\n",
    "# URL of the results page\n",
    "url = \"https://results.eci.gov.in/PcResultGenJune2024/index.htm\"\n",
    "\n",
    "# Send a GET request to the URL\n",
    "response = requests.get(url)\n",
    "soup = BeautifulSoup(response.content, 'html.parser')\n",
    "\n",
    "# Locate the table containing constituency-wise results\n",
    "table = soup.find('table')\n",
    "\n",
    "if table:\n",
    "    # Open a CSV file to write the data\n",
    "    with open('constituency_wise_results_2024.csv', mode='w', newline='', encoding='utf-8') as file:\n",
    "        writer = csv.writer(file)\n",
    "        \n",
    "        # Write the header row\n",
    "        header = ['Constituency', 'Candidate', 'Party', 'Votes', 'Percentage']\n",
    "        writer.writerow(header)\n",
    "        \n",
    "        # Iterate through the table rows\n",
    "        for row in table.find_all('tr')[1:]:  # Skip the header row\n",
    "            columns = row.find_all('td')\n",
    "            if len(columns) == 5:\n",
    "                constituency = columns[0].text.strip()\n",
    "                candidate = columns[1].text.strip()\n",
    "                party = columns[2].text.strip()\n",
    "                votes = columns[3].text.strip()\n",
    "                percentage = columns[4].text.strip()\n",
    "                data = [constituency, candidate, party, votes, percentage]\n",
    "                writer.writerow(data)\n",
    "\n",
    "    print(\"Constituency-wise data has been saved to constituency_wise_results_2024.csv\")\n",
    "else:\n",
    "    print(\"Table not found on the page.\")\n"
   ]
  }
 ],
 "metadata": {
  "kernelspec": {
   "display_name": "Python 3",
   "language": "python",
   "name": "python3"
  },
  "language_info": {
   "codemirror_mode": {
    "name": "ipython",
    "version": 3
   },
   "file_extension": ".py",
   "mimetype": "text/x-python",
   "name": "python",
   "nbconvert_exporter": "python",
   "pygments_lexer": "ipython3",
   "version": "3.12.4"
  }
 },
 "nbformat": 4,
 "nbformat_minor": 2
}
